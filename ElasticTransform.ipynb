{
 "cells": [
  {
   "cell_type": "markdown",
   "metadata": {},
   "source": [
    "# Elastic Transformation of Image\n",
    "from https://gist.github.com/erniejunior/601cdf56d2b424757de5"
   ]
  },
  {
   "cell_type": "code",
   "execution_count": 1,
   "metadata": {},
   "outputs": [
    {
     "name": "stdout",
     "output_type": "stream",
     "text": [
      "<class 'list'>\n",
      "\n",
      "\n",
      "\n",
      "\n",
      "unsorted\n",
      "\n",
      "\n",
      " ['DataSet/Image/1.png', 'DataSet/Image/10.png', 'DataSet/Image/100.png', 'DataSet/Image/101.png', 'DataSet/Image/102.png', 'DataSet/Image/103.png', 'DataSet/Image/104.png', 'DataSet/Image/105.png', 'DataSet/Image/106.png', 'DataSet/Image/107.png', 'DataSet/Image/108.png', 'DataSet/Image/109.png', 'DataSet/Image/11.png', 'DataSet/Image/110.png', 'DataSet/Image/111.png', 'DataSet/Image/112.png', 'DataSet/Image/113.png', 'DataSet/Image/114.png', 'DataSet/Image/115.png', 'DataSet/Image/116.png', 'DataSet/Image/118.png', 'DataSet/Image/119.png', 'DataSet/Image/12.png', 'DataSet/Image/120.png', 'DataSet/Image/121.png', 'DataSet/Image/122.png', 'DataSet/Image/123.png', 'DataSet/Image/124.png', 'DataSet/Image/125.png', 'DataSet/Image/126.png', 'DataSet/Image/127.png', 'DataSet/Image/128.png', 'DataSet/Image/129.png', 'DataSet/Image/13.png', 'DataSet/Image/130.png', 'DataSet/Image/131.png', 'DataSet/Image/132.png', 'DataSet/Image/133.png', 'DataSet/Image/134.png', 'DataSet/Image/135.png', 'DataSet/Image/137.png', 'DataSet/Image/138.png', 'DataSet/Image/139.png', 'DataSet/Image/14.png', 'DataSet/Image/140.png', 'DataSet/Image/141.png', 'DataSet/Image/142.png', 'DataSet/Image/143.png', 'DataSet/Image/144.png', 'DataSet/Image/145.png', 'DataSet/Image/146.png', 'DataSet/Image/147.png', 'DataSet/Image/148.png', 'DataSet/Image/149.png', 'DataSet/Image/15.png', 'DataSet/Image/150.png', 'DataSet/Image/16.png', 'DataSet/Image/17.png', 'DataSet/Image/18.png', 'DataSet/Image/19.png', 'DataSet/Image/20.png', 'DataSet/Image/21.png', 'DataSet/Image/22.png', 'DataSet/Image/23.png', 'DataSet/Image/24.png', 'DataSet/Image/25.png', 'DataSet/Image/26.png', 'DataSet/Image/27.png', 'DataSet/Image/28.png', 'DataSet/Image/29.png', 'DataSet/Image/3.png', 'DataSet/Image/30.png', 'DataSet/Image/31.png', 'DataSet/Image/32.png', 'DataSet/Image/33.png', 'DataSet/Image/34.png', 'DataSet/Image/35.png', 'DataSet/Image/36.png', 'DataSet/Image/37.png', 'DataSet/Image/38.png', 'DataSet/Image/4.png', 'DataSet/Image/40.png', 'DataSet/Image/41.png', 'DataSet/Image/42.png', 'DataSet/Image/43.png', 'DataSet/Image/44.png', 'DataSet/Image/45.png', 'DataSet/Image/46.png', 'DataSet/Image/47.png', 'DataSet/Image/48.png', 'DataSet/Image/49.png', 'DataSet/Image/5.png', 'DataSet/Image/50.png', 'DataSet/Image/51.png', 'DataSet/Image/52.png', 'DataSet/Image/53.png', 'DataSet/Image/54.png', 'DataSet/Image/55.png', 'DataSet/Image/56.png', 'DataSet/Image/57.png', 'DataSet/Image/117.png', 'DataSet/Image/136.png', 'DataSet/Image/2.png', 'DataSet/Image/39.png', 'DataSet/Image/58.png', 'DataSet/Image/77.png', 'DataSet/Image/59.png', 'DataSet/Image/6.png', 'DataSet/Image/60.png', 'DataSet/Image/61.png', 'DataSet/Image/62.png', 'DataSet/Image/63.png', 'DataSet/Image/64.png', 'DataSet/Image/65.png', 'DataSet/Image/66.png', 'DataSet/Image/67.png', 'DataSet/Image/68.png', 'DataSet/Image/69.png', 'DataSet/Image/7.png', 'DataSet/Image/70.png', 'DataSet/Image/71.png', 'DataSet/Image/72.png', 'DataSet/Image/73.png', 'DataSet/Image/74.png', 'DataSet/Image/75.png', 'DataSet/Image/76.png', 'DataSet/Image/78.png', 'DataSet/Image/79.png', 'DataSet/Image/8.png', 'DataSet/Image/80.png', 'DataSet/Image/81.png', 'DataSet/Image/82.png', 'DataSet/Image/83.png', 'DataSet/Image/84.png', 'DataSet/Image/85.png', 'DataSet/Image/86.png', 'DataSet/Image/87.png', 'DataSet/Image/88.png', 'DataSet/Image/89.png', 'DataSet/Image/9.png', 'DataSet/Image/90.png', 'DataSet/Image/91.png', 'DataSet/Image/92.png', 'DataSet/Image/93.png', 'DataSet/Image/94.png', 'DataSet/Image/95.png', 'DataSet/Image/96.png', 'DataSet/Image/97.png', 'DataSet/Image/98.png', 'DataSet/Image/99.png']\n",
      "\n",
      "\n",
      "\n",
      "\n",
      "sorted\n",
      "\n",
      "\n",
      "\n",
      " ['DataSet/Image/1.png', 'DataSet/Image/2.png', 'DataSet/Image/3.png', 'DataSet/Image/4.png', 'DataSet/Image/5.png', 'DataSet/Image/6.png', 'DataSet/Image/7.png', 'DataSet/Image/8.png', 'DataSet/Image/9.png', 'DataSet/Image/10.png', 'DataSet/Image/11.png', 'DataSet/Image/12.png', 'DataSet/Image/13.png', 'DataSet/Image/14.png', 'DataSet/Image/15.png', 'DataSet/Image/16.png', 'DataSet/Image/17.png', 'DataSet/Image/18.png', 'DataSet/Image/19.png', 'DataSet/Image/20.png', 'DataSet/Image/21.png', 'DataSet/Image/22.png', 'DataSet/Image/23.png', 'DataSet/Image/24.png', 'DataSet/Image/25.png', 'DataSet/Image/26.png', 'DataSet/Image/27.png', 'DataSet/Image/28.png', 'DataSet/Image/29.png', 'DataSet/Image/30.png', 'DataSet/Image/31.png', 'DataSet/Image/32.png', 'DataSet/Image/33.png', 'DataSet/Image/34.png', 'DataSet/Image/35.png', 'DataSet/Image/36.png', 'DataSet/Image/37.png', 'DataSet/Image/38.png', 'DataSet/Image/39.png', 'DataSet/Image/40.png', 'DataSet/Image/41.png', 'DataSet/Image/42.png', 'DataSet/Image/43.png', 'DataSet/Image/44.png', 'DataSet/Image/45.png', 'DataSet/Image/46.png', 'DataSet/Image/47.png', 'DataSet/Image/48.png', 'DataSet/Image/49.png', 'DataSet/Image/50.png', 'DataSet/Image/51.png', 'DataSet/Image/52.png', 'DataSet/Image/53.png', 'DataSet/Image/54.png', 'DataSet/Image/55.png', 'DataSet/Image/56.png', 'DataSet/Image/57.png', 'DataSet/Image/58.png', 'DataSet/Image/59.png', 'DataSet/Image/60.png', 'DataSet/Image/61.png', 'DataSet/Image/62.png', 'DataSet/Image/63.png', 'DataSet/Image/64.png', 'DataSet/Image/65.png', 'DataSet/Image/66.png', 'DataSet/Image/67.png', 'DataSet/Image/68.png', 'DataSet/Image/69.png', 'DataSet/Image/70.png', 'DataSet/Image/71.png', 'DataSet/Image/72.png', 'DataSet/Image/73.png', 'DataSet/Image/74.png', 'DataSet/Image/75.png', 'DataSet/Image/76.png', 'DataSet/Image/77.png', 'DataSet/Image/78.png', 'DataSet/Image/79.png', 'DataSet/Image/80.png', 'DataSet/Image/81.png', 'DataSet/Image/82.png', 'DataSet/Image/83.png', 'DataSet/Image/84.png', 'DataSet/Image/85.png', 'DataSet/Image/86.png', 'DataSet/Image/87.png', 'DataSet/Image/88.png', 'DataSet/Image/89.png', 'DataSet/Image/90.png', 'DataSet/Image/91.png', 'DataSet/Image/92.png', 'DataSet/Image/93.png', 'DataSet/Image/94.png', 'DataSet/Image/95.png', 'DataSet/Image/96.png', 'DataSet/Image/97.png', 'DataSet/Image/98.png', 'DataSet/Image/99.png', 'DataSet/Image/100.png', 'DataSet/Image/101.png', 'DataSet/Image/102.png', 'DataSet/Image/103.png', 'DataSet/Image/104.png', 'DataSet/Image/105.png', 'DataSet/Image/106.png', 'DataSet/Image/107.png', 'DataSet/Image/108.png', 'DataSet/Image/109.png', 'DataSet/Image/110.png', 'DataSet/Image/111.png', 'DataSet/Image/112.png', 'DataSet/Image/113.png', 'DataSet/Image/114.png', 'DataSet/Image/115.png', 'DataSet/Image/116.png', 'DataSet/Image/117.png', 'DataSet/Image/118.png', 'DataSet/Image/119.png', 'DataSet/Image/120.png', 'DataSet/Image/121.png', 'DataSet/Image/122.png', 'DataSet/Image/123.png', 'DataSet/Image/124.png', 'DataSet/Image/125.png', 'DataSet/Image/126.png', 'DataSet/Image/127.png', 'DataSet/Image/128.png', 'DataSet/Image/129.png', 'DataSet/Image/130.png', 'DataSet/Image/131.png', 'DataSet/Image/132.png', 'DataSet/Image/133.png', 'DataSet/Image/134.png', 'DataSet/Image/135.png', 'DataSet/Image/136.png', 'DataSet/Image/137.png', 'DataSet/Image/138.png', 'DataSet/Image/139.png', 'DataSet/Image/140.png', 'DataSet/Image/141.png', 'DataSet/Image/142.png', 'DataSet/Image/143.png', 'DataSet/Image/144.png', 'DataSet/Image/145.png', 'DataSet/Image/146.png', 'DataSet/Image/147.png', 'DataSet/Image/148.png', 'DataSet/Image/149.png', 'DataSet/Image/150.png']\n",
      "len images  150\n"
     ]
    },
    {
     "data": {
      "image/png": "[encoded data removed]",
      "text/plain": [
       "<Figure size 432x288 with 1 Axes>"
      ]
     },
     "metadata": {
      "needs_background": "light"
     },
     "output_type": "display_data"
    },
    {
     "data": {
      "image/png": "[encoded data removed]",
      "text/plain": [
       "<Figure size 432x288 with 1 Axes>"
      ]
     },
     "metadata": {
      "needs_background": "light"
     },
     "output_type": "display_data"
    },
    {
     "data": {
      "image/png": "[encoded data removed]",
      "text/plain": [
       "<Figure size 432x288 with 1 Axes>"
      ]
     },
     "metadata": {
      "needs_background": "light"
     },
     "output_type": "display_data"
    }
   ],
   "source": [
    "#Import images\n",
    "%matplotlib inline\n",
    "#read in 100 by 100 pixel images \n",
    "import os\n",
    "import cv2\n",
    "import numpy as np\n",
    "import sys\n",
    "import glob\n",
    "import matplotlib.pyplot as plt\n",
    "import matplotlib.image as mpimg\n",
    "from natsort import natsorted\n",
    "#np.set_printoptions(threshold=sys.maxsize)\n",
    "\n",
    "filenames = [img for img in glob.glob(\"DataSet/Image/*.png\")]\n",
    "\n",
    "print(type(filenames))\n",
    "print(\"\\n\\n\\n\\nunsorted\\n\\n\\n\", filenames)\n",
    "\n",
    "filenames = natsorted(filenames)\n",
    "\n",
    "print(\"\\n\\n\\n\\nsorted\\n\\n\\n\\n\", filenames)\n",
    "\n",
    "images = [cv2.imread(img) for img in filenames]\n",
    "\n",
    "#check that we have 150 images\n",
    "print(\"len images \", len(images))\n",
    "\n",
    "#convert from BGR to RGB \n",
    "for img in images:\n",
    "    img[np.where((img == [0, 0, 255]).all(axis=2))] = [255, 0, 0]\n",
    "\n",
    "#plot first 3 images in dataset\n",
    "for i in range(3):\n",
    "    plt.imshow(images[i])\n",
    "    plt.show()\n",
    "\n",
    "\n"
   ]
  },
  {
   "cell_type": "code",
   "execution_count": 2,
   "metadata": {},
   "outputs": [],
   "source": [
    "import numpy as np\n",
    "from scipy.ndimage.interpolation import map_coordinates\n",
    "from scipy.ndimage.filters import gaussian_filter\n",
    "\n",
    "def elastic_transform(image, alpha, sigma, random_state=None):\n",
    "    \"\"\"Elastic deformation of images as described in [Simard2003]_.\n",
    "    .. [Simard2003] Simard, Steinkraus and Platt, \"Best Practices for\n",
    "       Convolutional Neural Networks applied to Visual Document Analysis\", in\n",
    "       Proc. of the International Conference on Document Analysis and\n",
    "       Recognition, 2003.\n",
    "    \"\"\"\n",
    "    if random_state is None:\n",
    "        random_state = np.random.RandomState(None)\n",
    "\n",
    "    shape = image.shape\n",
    "    dx = gaussian_filter((random_state.rand(*shape) * 2 - 1), sigma, mode=\"constant\", cval=0) * alpha\n",
    "    dy = gaussian_filter((random_state.rand(*shape) * 2 - 1), sigma, mode=\"constant\", cval=0) * alpha\n",
    "    dz = np.zeros_like(dx)\n",
    "\n",
    "    x, y, z = np.meshgrid(np.arange(shape[0]), np.arange(shape[1]), np.arange(shape[2]))\n",
    "    #print(x.shape)\n",
    "    indices = np.reshape(y+dy, (-1, 1)), np.reshape(x+dx, (-1, 1)), np.reshape(z, (-1, 1))\n",
    "\n",
    "    distorted_image = map_coordinates(image, indices, order=1, mode='reflect')\n",
    "    return distorted_image.reshape(image.shape)"
   ]
  },
  {
   "cell_type": "code",
   "execution_count": 5,
   "metadata": {},
   "outputs": [
    {
     "data": {
      "image/png": "[encoded data removed]",
      "text/plain": [
       "<Figure size 432x288 with 1 Axes>"
      ]
     },
     "metadata": {
      "needs_background": "light"
     },
     "output_type": "display_data"
    },
    {
     "data": {
      "image/png": "[encoded data removed]",
      "text/plain": [
       "<Figure size 432x288 with 1 Axes>"
      ]
     },
     "metadata": {
      "needs_background": "light"
     },
     "output_type": "display_data"
    },
    {
     "data": {
      "image/png": "[encoded data removed]",
      "text/plain": [
       "<Figure size 432x288 with 1 Axes>"
      ]
     },
     "metadata": {
      "needs_background": "light"
     },
     "output_type": "display_data"
    },
    {
     "data": {
      "image/png": "[encoded data removed]",
      "text/plain": [
       "<Figure size 432x288 with 1 Axes>"
      ]
     },
     "metadata": {
      "needs_background": "light"
     },
     "output_type": "display_data"
    },
    {
     "data": {
      "image/png": "[encoded data removed]",
      "text/plain": [
       "<Figure size 432x288 with 1 Axes>"
      ]
     },
     "metadata": {
      "needs_background": "light"
     },
     "output_type": "display_data"
    },
    {
     "data": {
      "image/png": "[encoded data removed]",
      "text/plain": [
       "<Figure size 432x288 with 1 Axes>"
      ]
     },
     "metadata": {
      "needs_background": "light"
     },
     "output_type": "display_data"
    },
    {
     "data": {
      "image/png": "[encoded data removed]",
      "text/plain": [
       "<Figure size 432x288 with 1 Axes>"
      ]
     },
     "metadata": {
      "needs_background": "light"
     },
     "output_type": "display_data"
    },
    {
     "data": {
      "image/png": "[encoded data removed]",
      "text/plain": [
       "<Figure size 432x288 with 1 Axes>"
      ]
     },
     "metadata": {
      "needs_background": "light"
     },
     "output_type": "display_data"
    },
    {
     "data": {
      "image/png": "[encoded data removed]",
      "text/plain": [
       "<Figure size 432x288 with 1 Axes>"
      ]
     },
     "metadata": {
      "needs_background": "light"
     },
     "output_type": "display_data"
    }
   ],
   "source": [
    "#ELASTIC_ALPHA_SIGMA = ((1201, 10), (1501, 12), (991, 8))\n",
    "\n",
    "alpha, alpha2, alpha3 = 991, 1501, 1201\n",
    "sigma, sigma2, sigma3 = 8, 12, 10\n",
    "\n",
    "distorted_imgs = []\n",
    "distorted_imgs2 = []\n",
    "distorted_imgs3 = []\n",
    "\n",
    "for img in images: \n",
    "    distorted = elastic_transform(img, alpha=alpha, sigma=sigma)\n",
    "    distorted_imgs.append(distorted)\n",
    "\n",
    "for img in images: \n",
    "    distorted = elastic_transform(img, alpha=alpha2, sigma=sigma2)\n",
    "    distorted_imgs2.append(distorted)\n",
    "\n",
    "for img in images: \n",
    "    distorted = elastic_transform(img, alpha=alpha3, sigma=sigma3)\n",
    "    distorted_imgs3.append(distorted)\n",
    "    \n",
    "#concatenate and save new dataset in folder\n",
    "distorted_imgs = np.array(distorted_imgs)\n",
    "distorted_imgs2 = np.array(distorted_imgs2)\n",
    "distorted_imgs3 = np.array(distorted_imgs3)\n",
    "\n",
    "#plot first 3 images in dataset\n",
    "for i in range(3):\n",
    "    plt.imshow(distorted_imgs[i])\n",
    "    plt.show()\n",
    "\n",
    "#plot first 3 images in dataset\n",
    "for i in range(3):\n",
    "    plt.imshow(distorted_imgs2[i])\n",
    "    plt.show()\n",
    "\n",
    "#plot first 3 images in dataset\n",
    "for i in range(3):\n",
    "    plt.imshow(distorted_imgs3[i])\n",
    "    plt.show()"
   ]
  },
  {
   "cell_type": "code",
   "execution_count": 8,
   "metadata": {},
   "outputs": [],
   "source": [
    "# save numpy arrays\n",
    "from tempfile import TemporaryFile\n",
    "import os\n",
    "\n",
    "distorted1 = TemporaryFile()\n",
    "np.save(os.path.join('DataSet/AugImages/distorted1', 'distorted1'), distorted_imgs)\n",
    "\n",
    "distorted2 = TemporaryFile()\n",
    "np.save(os.path.join('DataSet/AugImages/distorted2', 'distorted2'), distorted_imgs2)\n",
    "\n",
    "distorted3 = TemporaryFile()\n",
    "np.save(os.path.join('DataSet/AugImages/distorted3', 'distorted3'), distorted_imgs3)\n"
   ]
  },
  {
   "cell_type": "code",
   "execution_count": null,
   "metadata": {},
   "outputs": [],
   "source": []
  },
  {
   "cell_type": "code",
   "execution_count": 4,
   "metadata": {},
   "outputs": [
    {
     "ename": "TypeError",
     "evalue": "Required argument 'img' (pos 2) not found",
     "output_type": "error",
     "traceback": [
      "\u001b[0;31m---------------------------------------------------------------------------\u001b[0m",
      "\u001b[0;31mTypeError\u001b[0m                                 Traceback (most recent call last)",
      "\u001b[0;32m<ipython-input-4-275831cc4dd7>\u001b[0m in \u001b[0;36m<module>\u001b[0;34m()\u001b[0m\n\u001b[1;32m     11\u001b[0m \u001b[0;34m\u001b[0m\u001b[0m\n\u001b[1;32m     12\u001b[0m \u001b[0;32mfor\u001b[0m \u001b[0mi\u001b[0m \u001b[0;32min\u001b[0m \u001b[0mrange\u001b[0m\u001b[0;34m(\u001b[0m\u001b[0mlen\u001b[0m\u001b[0;34m(\u001b[0m\u001b[0mdistorted_imgs\u001b[0m\u001b[0;34m)\u001b[0m\u001b[0;34m)\u001b[0m\u001b[0;34m:\u001b[0m\u001b[0;34m\u001b[0m\u001b[0;34m\u001b[0m\u001b[0m\n\u001b[0;32m---> 13\u001b[0;31m     \u001b[0mcv2\u001b[0m\u001b[0;34m.\u001b[0m\u001b[0mimwrite\u001b[0m\u001b[0;34m(\u001b[0m\u001b[0;34m\"DataSet/AugImages/distorted1/{}.png\"\u001b[0m\u001b[0;34m.\u001b[0m\u001b[0mformat\u001b[0m\u001b[0;34m(\u001b[0m\u001b[0mi\u001b[0m\u001b[0;34m+\u001b[0m\u001b[0;36m1\u001b[0m\u001b[0;34m)\u001b[0m\u001b[0;34m)\u001b[0m\u001b[0;34m\u001b[0m\u001b[0;34m\u001b[0m\u001b[0m\n\u001b[0m\u001b[1;32m     14\u001b[0m \u001b[0;34m\u001b[0m\u001b[0m\n\u001b[1;32m     15\u001b[0m \u001b[0;32mfor\u001b[0m \u001b[0mi\u001b[0m \u001b[0;32min\u001b[0m \u001b[0mrange\u001b[0m\u001b[0;34m(\u001b[0m\u001b[0mlen\u001b[0m\u001b[0;34m(\u001b[0m\u001b[0mdistorted_imgs2\u001b[0m\u001b[0;34m)\u001b[0m\u001b[0;34m)\u001b[0m\u001b[0;34m:\u001b[0m\u001b[0;34m\u001b[0m\u001b[0;34m\u001b[0m\u001b[0m\n",
      "\u001b[0;31mTypeError\u001b[0m: Required argument 'img' (pos 2) not found"
     ]
    }
   ],
   "source": [
    "#save new image dataset \n",
    "#make directory\n",
    "\n",
    "import os\n",
    "import cv2\n",
    "\n",
    "mypath = \"DataSet/AugImages\"\n",
    "if not os.path.isdir(mypath):\n",
    "    for i in range(3):\n",
    "        os.makedirs(\"DataSet/AugImages/distorted{}\".format(i+1))\n",
    "\n",
    "\n",
    "for i in range(len(distorted_imgs)):\n",
    "    cv2.imwrite(\"DataSet/AugImages/distorted1/{}.png\".format(i+1))\n",
    "\n",
    "for i in range(len(distorted_imgs2)):\n",
    "    cv2.imwrite(\"DataSet/AugImages/distorted2/{}.png\".format(i+1))\n",
    "\n",
    "for i in range(len(distorted_imgs3)):\n",
    "    cv2.imwrite(\"DataSet/AugImages/distorted2/{}.png\".format(i+1))\n",
    "\n",
    "\n"
   ]
  },
  {
   "cell_type": "code",
   "execution_count": null,
   "metadata": {},
   "outputs": [],
   "source": []
  },
  {
   "cell_type": "code",
   "execution_count": null,
   "metadata": {},
   "outputs": [],
   "source": []
  },
  {
   "cell_type": "code",
   "execution_count": null,
   "metadata": {},
   "outputs": [],
   "source": []
  }
 ],
 "metadata": {
  "kernelspec": {
   "display_name": "Python 3",
   "language": "python",
   "name": "python3"
  },
  "language_info": {
   "codemirror_mode": {
    "name": "ipython",
    "version": 3
   },
   "file_extension": ".py",
   "mimetype": "text/x-python",
   "name": "python",
   "nbconvert_exporter": "python",
   "pygments_lexer": "ipython3",
   "version": "3.6.8"
  }
 },
 "nbformat": 4,
 "nbformat_minor": 2
}
